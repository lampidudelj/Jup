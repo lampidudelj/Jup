{
 "cells": [
  {
   "cell_type": "markdown",
   "metadata": {},
   "source": [
    "#### sklearn.naive_bayes.GaussianNB"
   ]
  },
  {
   "cell_type": "code",
   "execution_count": 19,
   "metadata": {
    "collapsed": false
   },
   "outputs": [
    {
     "name": "stdout",
     "output_type": "stream",
     "text": [
      "[1]\n",
      "[1]\n"
     ]
    }
   ],
   "source": [
    "import numpy as np\n",
    "X = np.array([[-1, -1], [-2, -1], [-3, -2], [1, 1], [2, 1], [3, 2]]) # Features\n",
    "Y = np.array([1, 1, 1, 2, 2, 2]) # Labels\n",
    "from sklearn.naive_bayes import GaussianNB\n",
    "clf = GaussianNB()\n",
    "clf.fit(X, Y)\n",
    "GaussianNB(priors=None)\n",
    "print(clf.predict([[-0.8, -1]]))\n",
    "\n",
    "clf_pf = GaussianNB()\n",
    "clf_pf.partial_fit(X, Y, np.unique(Y))\n",
    "GaussianNB(priors=None)\n",
    "print(clf_pf.predict([[-0.8, -1]]))"
   ]
  },
  {
   "cell_type": "code",
   "execution_count": 10,
   "metadata": {
    "collapsed": false
   },
   "outputs": [
    {
     "name": "stdout",
     "output_type": "stream",
     "text": [
      "\n",
      "checking for nltk\n",
      "checking for numpy\n",
      "checking for scipy\n",
      "checking for sklearn\n",
      "\n",
      "downloading the Enron dataset (this may take a while)\n",
      "to check on progress, you can cd up one level, then execute <ls -lthr>\n",
      "Enron dataset should be last item on the list, along with its current size\n",
      "download will complete at about 423 MB\n",
      "download complete!\n",
      "\n",
      "unzipping Enron dataset (this may take a while)\n",
      "you're ready to go!\n"
     ]
    }
   ],
   "source": [
    "%run ./SourceFiles/ud120-projects/tools/startup.py"
   ]
  },
  {
   "cell_type": "code",
   "execution_count": 1,
   "metadata": {
    "collapsed": false
   },
   "outputs": [
    {
     "name": "stdout",
     "output_type": "stream",
     "text": [
      ".git\n",
      ".ipynb_checkpoints\n",
      "data\n",
      "FirstNotebook.ipynb\n",
      "PimaPrediction.ipynb\n",
      "python_ML_minicourse.ipynb\n",
      "README.md\n",
      "SourceFiles\n",
      "Udacity.ipynb\n"
     ]
    }
   ],
   "source": [
    "import os\n",
    "\n",
    "for entry in os.scandir('.'):\n",
    "    print(entry.name)"
   ]
  },
  {
   "cell_type": "markdown",
   "metadata": {},
   "source": [
    "### Changing lines in the file to fit Python 3 expectetations"
   ]
  },
  {
   "cell_type": "code",
   "execution_count": 2,
   "metadata": {
    "collapsed": false
   },
   "outputs": [
    {
     "name": "stdout",
     "output_type": "stream",
     "text": [
      "Done. Saved 35156 bytes.\n"
     ]
    }
   ],
   "source": [
    "original = \"./SourceFiles/ud120-projects/tools/word_data.pkl\"\n",
    "destination = \"./SourceFiles/ud120-projects/tools/word_data_unix.pkl\"\n",
    "\n",
    "content = ''\n",
    "outsize = 0\n",
    "with open(original, 'rb') as infile:\n",
    "    content = infile.read()\n",
    "with open(destination, 'wb') as output:\n",
    "    for line in content.splitlines():\n",
    "        outsize += len(line) + 1\n",
    "        output.write(line + str.encode('\\n'))\n",
    "\n",
    "print(\"Done. Saved %s bytes.\" % (len(content)-outsize))"
   ]
  },
  {
   "cell_type": "markdown",
   "metadata": {},
   "source": [
    "### Pre-processing"
   ]
  },
  {
   "cell_type": "code",
   "execution_count": 3,
   "metadata": {
    "collapsed": false
   },
   "outputs": [
    {
     "name": "stderr",
     "output_type": "stream",
     "text": [
      "C:\\Users\\Aleks\\Anaconda3\\lib\\site-packages\\sklearn\\cross_validation.py:44: DeprecationWarning: This module was deprecated in version 0.18 in favor of the model_selection module into which all the refactored classes and functions are moved. Also note that the interface of the new CV iterators are different from that of this module. This module will be removed in 0.20.\n",
      "  \"This module will be removed in 0.20.\", DeprecationWarning)\n"
     ]
    }
   ],
   "source": [
    "import pickle\n",
    "import _pickle as cPickle\n",
    "import numpy\n",
    "\n",
    "from sklearn import cross_validation\n",
    "from sklearn.feature_extraction.text import TfidfVectorizer\n",
    "from sklearn.feature_selection import SelectPercentile, f_classif\n",
    "\n",
    "\n",
    "\n",
    "def preprocess(words_file = \"./SourceFiles/ud120-projects/tools/word_data_unix.pkl\", authors_file=\"./SourceFiles/ud120-projects/tools/email_authors.pkl\"):\n",
    "    \"\"\" \n",
    "        this function takes a pre-made list of email texts (by default word_data.pkl)\n",
    "        and the corresponding authors (by default email_authors.pkl) and performs\n",
    "        a number of preprocessing steps:\n",
    "            -- splits into training/testing sets (10% testing)\n",
    "            -- vectorizes into tfidf matrix\n",
    "            -- selects/keeps most helpful features\n",
    "\n",
    "        after this, the feaures and labels are put into numpy arrays, which play nice with sklearn functions\n",
    "\n",
    "        4 objects are returned:\n",
    "            -- training/testing features\n",
    "            -- training/testing labels\n",
    "\n",
    "    \"\"\"\n",
    "\n",
    "    ### the words (features) and authors (labels), already largely preprocessed\n",
    "    ### this preprocessing will be repeated in the text learning mini-project\n",
    "    authors_file_handler = open(authors_file, 'rb')\n",
    "    authors = pickle.load(authors_file_handler)\n",
    "    authors_file_handler.close()\n",
    "\n",
    "    words_file_handler = open(words_file, 'rb')\n",
    "    word_data = cPickle.load(words_file_handler)\n",
    "    words_file_handler.close()\n",
    "\n",
    "    ### test_size is the percentage of events assigned to the test set\n",
    "    ### (remainder go into training)\n",
    "    features_train, features_test, labels_train, labels_test = cross_validation.train_test_split(word_data, authors, test_size=0.1, random_state=42)\n",
    "\n",
    "\n",
    "\n",
    "    ### text vectorization--go from strings to lists of numbers\n",
    "    vectorizer = TfidfVectorizer(sublinear_tf=True, max_df=0.5,\n",
    "                                 stop_words='english')\n",
    "    features_train_transformed = vectorizer.fit_transform(features_train)\n",
    "    features_test_transformed  = vectorizer.transform(features_test)\n",
    "\n",
    "    ### feature selection, because text is super high dimensional and \n",
    "    ### can be really computationally chewy as a result\n",
    "    selector = SelectPercentile(f_classif, percentile=10)\n",
    "    selector.fit(features_train_transformed, labels_train)\n",
    "    features_train_transformed = selector.transform(features_train_transformed).toarray()\n",
    "    features_test_transformed  = selector.transform(features_test_transformed).toarray()\n",
    "\n",
    "    ### info on the data\n",
    "    print(\"no. of Chris training emails:\", sum(labels_train))\n",
    "    print(\"no. of Sara training emails:\", len(labels_train)-sum(labels_train))\n",
    "    \n",
    "    return features_train_transformed, features_test_transformed, labels_train, labels_test\n"
   ]
  },
  {
   "cell_type": "code",
   "execution_count": 5,
   "metadata": {
    "collapsed": false
   },
   "outputs": [
    {
     "name": "stdout",
     "output_type": "stream",
     "text": [
      "no. of Chris training emails: 7936\n",
      "no. of Sara training emails: 7884\n"
     ]
    }
   ],
   "source": [
    "features_train, features_test, labels_train, labels_test = preprocess()"
   ]
  },
  {
   "cell_type": "markdown",
   "metadata": {},
   "source": [
    "### Actual training and prediction"
   ]
  },
  {
   "cell_type": "code",
   "execution_count": 6,
   "metadata": {
    "collapsed": false
   },
   "outputs": [
    {
     "name": "stdout",
     "output_type": "stream",
     "text": [
      "training time: 1.887 s\n",
      "[0 0 1 ..., 1 0 0]\n",
      "prediction time: 0.327 s\n"
     ]
    }
   ],
   "source": [
    "from sklearn.naive_bayes import GaussianNB\n",
    "from time import time\n",
    "clf = GaussianNB()\n",
    "t0 = time()\n",
    "clf.fit(features_train, labels_train)\n",
    "print(\"training time:\", round(time()-t0, 3), \"s\")\n",
    "GaussianNB(priors=None)\n",
    "t0 = time()\n",
    "pred = clf.predict(features_test)\n",
    "print(pred)\n",
    "print(\"prediction time:\", round(time()-t0, 3), \"s\")"
   ]
  },
  {
   "cell_type": "markdown",
   "metadata": {},
   "source": [
    "### Adding some metrics"
   ]
  },
  {
   "cell_type": "code",
   "execution_count": 7,
   "metadata": {
    "collapsed": false
   },
   "outputs": [
    {
     "name": "stdout",
     "output_type": "stream",
     "text": [
      "Prediction accuracy:  0.973265073948\n",
      "Chris's emails:  906\n"
     ]
    }
   ],
   "source": [
    "import numpy as np\n",
    "from sklearn.metrics import accuracy_score\n",
    "acc = accuracy_score(labels_test, pred)\n",
    "emailnum = numpy.sum(pred == 1)\n",
    "print(\"Prediction accuracy: \", acc)\n",
    "print(\"Chris's emails: \", emailnum)\n",
    "\n"
   ]
  },
  {
   "cell_type": "markdown",
   "metadata": {},
   "source": [
    "### Create tally of algorithm accuracy"
   ]
  },
  {
   "cell_type": "code",
   "execution_count": 16,
   "metadata": {
    "collapsed": false
   },
   "outputs": [
    {
     "name": "stdout",
     "output_type": "stream",
     "text": [
      "         name        accuracy chris emails\n",
      "0  GaussianNB  0.973265073948          906\n"
     ]
    }
   ],
   "source": [
    "import pandas\n",
    "accuracy_tally_array= numpy.array([['GaussianNB', acc, emailnum]])\n",
    "colnames = ['name', 'accuracy', 'chris emails']\n",
    "accuracy_tally = pandas.DataFrame(accuracy_tally_array, columns= colnames)\n",
    "print(accuracy_tally)"
   ]
  },
  {
   "cell_type": "code",
   "execution_count": 17,
   "metadata": {
    "collapsed": false
   },
   "outputs": [],
   "source": [
    "def displayAccuracyTally(accuracy_tally_array, array):\n",
    "    accuracy_tally_array = np.vstack([accuracy_tally_array, array])\n",
    "    colnames = ['name', 'accuracy', 'chris emails']\n",
    "    accuracy_tally = pandas.DataFrame(accuracy_tally_array, columns= colnames)\n",
    "    print(accuracy_tally)\n",
    "    return accuracy_tally_array"
   ]
  },
  {
   "cell_type": "markdown",
   "metadata": {},
   "source": [
    "## SVM"
   ]
  },
  {
   "cell_type": "code",
   "execution_count": 47,
   "metadata": {
    "collapsed": false
   },
   "outputs": [
    {
     "data": {
      "text/plain": [
       "SVC(C=1.0, cache_size=200, class_weight=None, coef0=0.0,\n",
       "  decision_function_shape=None, degree=3, gamma='auto', kernel='rbf',\n",
       "  max_iter=-1, probability=False, random_state=None, shrinking=True,\n",
       "  tol=0.001, verbose=False)"
      ]
     },
     "execution_count": 47,
     "metadata": {},
     "output_type": "execute_result"
    }
   ],
   "source": [
    "from sklearn import svm\n",
    "X = [[0, 0], [1, 1]]\n",
    "y = [0, 1]\n",
    "clf = svm.SVC()\n",
    "clf.fit(X, y)  \n",
    "pred = clf.predict([[2., 2.]])"
   ]
  },
  {
   "cell_type": "code",
   "execution_count": 48,
   "metadata": {
    "collapsed": false
   },
   "outputs": [
    {
     "data": {
      "text/plain": [
       "array([1])"
      ]
     },
     "execution_count": 48,
     "metadata": {},
     "output_type": "execute_result"
    }
   ],
   "source": [
    "clf.predict([[2., 2.]])"
   ]
  },
  {
   "cell_type": "code",
   "execution_count": 21,
   "metadata": {
    "collapsed": false
   },
   "outputs": [],
   "source": [
    "from sklearn import svm\n",
    "from time import time\n",
    "def svmModeler(C, kernelType, features_train, features_test, labels_train, labels_test):\n",
    "    clf = svm.SVC(kernel= kernelType, C= C)\n",
    "    t0 = time()\n",
    "    clf.fit(features_train, labels_train ) \n",
    "    print(\"training time:\", round(time()-t0, 3), \"s\")\n",
    "\n",
    "    t0 = time()\n",
    "    pred = clf.predict(features_test)\n",
    "    print(pred)\n",
    "    print(\"prediction time:\", round(time()-t0, 3), \"s\")\n",
    "\n",
    "    from sklearn.metrics import accuracy_score\n",
    "    acc = accuracy_score(labels_test, pred)\n",
    "    emailnum = numpy.sum(pred == 1)\n",
    "    print(\"Prediction accuracy: \", acc)\n",
    "    row= numpy.array(['svm.SVC ' + kernelType + ' C=' + str(C) , acc, emailnum])\n",
    "    global accuracy_tally_array\n",
    "    accuracy_tally_array = displayAccuracyTally(accuracy_tally_array, row)"
   ]
  },
  {
   "cell_type": "code",
   "execution_count": 22,
   "metadata": {
    "collapsed": false
   },
   "outputs": [
    {
     "name": "stdout",
     "output_type": "stream",
     "text": [
      "training time: 278.551 s\n",
      "[0 0 1 ..., 1 0 0]\n",
      "prediction time: 29.702 s\n",
      "Prediction accuracy:  0.984072810011\n",
      "                   name        accuracy chris emails\n",
      "0            GaussianNB  0.973265073948          906\n",
      "1  svm.SVC linear C=1.0  0.984072810011          881\n"
     ]
    }
   ],
   "source": [
    "C = 1.0  # SVM regularization parameter\n",
    "svmModeler(C, \"linear\", features_train, features_test, labels_train, labels_test)"
   ]
  },
  {
   "cell_type": "code",
   "execution_count": 23,
   "metadata": {
    "collapsed": false
   },
   "outputs": [
    {
     "name": "stdout",
     "output_type": "stream",
     "text": [
      "training time: 227.418 s\n",
      "[0 0 1 ..., 1 0 0]\n",
      "prediction time: 23.392 s\n",
      "Prediction accuracy:  0.988623435722\n",
      "                   name        accuracy chris emails\n",
      "0            GaussianNB  0.973265073948          906\n",
      "1  svm.SVC linear C=1.0  0.984072810011          881\n",
      "2  svm.SVC linear C=2.0  0.988623435722          877\n"
     ]
    }
   ],
   "source": [
    "C = 2.0  # SVM regularization parameter\n",
    "svmModeler(C, \"linear\", features_train, features_test, labels_train, labels_test)"
   ]
  },
  {
   "cell_type": "code",
   "execution_count": 24,
   "metadata": {
    "collapsed": false
   },
   "outputs": [
    {
     "name": "stdout",
     "output_type": "stream",
     "text": [
      "training time: 185.903 s\n",
      "[0 0 1 ..., 1 0 0]\n",
      "prediction time: 18.804 s\n",
      "Prediction accuracy:  0.990898748578\n",
      "                   name        accuracy chris emails\n",
      "0            GaussianNB  0.973265073948          906\n",
      "1  svm.SVC linear C=1.0  0.984072810011          881\n",
      "2  svm.SVC linear C=2.0  0.988623435722          877\n",
      "3  svm.SVC linear C=3.0  0.990898748578          877\n"
     ]
    }
   ],
   "source": [
    "C = 3.0  # SVM regularization parameter\n",
    "svmModeler(C, \"linear\", features_train, features_test, labels_train, labels_test)"
   ]
  },
  {
   "cell_type": "code",
   "execution_count": 25,
   "metadata": {
    "collapsed": false
   },
   "outputs": [
    {
     "name": "stdout",
     "output_type": "stream",
     "text": [
      "training time: 206.784 s\n",
      "[0 0 1 ..., 1 0 0]\n",
      "prediction time: 21.745 s\n",
      "Prediction accuracy:  0.990329920364\n",
      "                   name        accuracy chris emails\n",
      "0            GaussianNB  0.973265073948          906\n",
      "1  svm.SVC linear C=1.0  0.984072810011          881\n",
      "2  svm.SVC linear C=2.0  0.988623435722          877\n",
      "3  svm.SVC linear C=3.0  0.990898748578          877\n",
      "4  svm.SVC linear C=4.0  0.990329920364          878\n"
     ]
    }
   ],
   "source": [
    "C = 4.0  # SVM regularization parameter\n",
    "svmModeler(C, \"linear\", features_train, features_test, labels_train, labels_test)"
   ]
  },
  {
   "cell_type": "markdown",
   "metadata": {},
   "source": [
    "##### C=3 shows best accuracy \n",
    "\n",
    "#### Lets try smaller data set"
   ]
  },
  {
   "cell_type": "code",
   "execution_count": 42,
   "metadata": {
    "collapsed": false
   },
   "outputs": [
    {
     "name": "stdout",
     "output_type": "stream",
     "text": [
      "training time: 0.119 s\n",
      "[0 1 1 ..., 1 0 1]\n",
      "prediction time: 1.186 s\n",
      "Prediction accuracy:  0.884527872582\n"
     ]
    }
   ],
   "source": [
    "sub_features_train = features_train[:np.int(len(features_train)/100)]\n",
    "sub_labels_train = labels_train[:np.int(len(labels_train)/100)]\n",
    "C = 1.0  # SVM regularization parameter\n",
    "svmModeler(C, \"linear\", sub_features_train, features_test , sub_labels_train, labels_test)"
   ]
  },
  {
   "cell_type": "code",
   "execution_count": 43,
   "metadata": {
    "collapsed": false
   },
   "outputs": [
    {
     "name": "stdout",
     "output_type": "stream",
     "text": [
      "training time: 0.12 s\n",
      "[0 1 1 ..., 1 0 1]\n",
      "prediction time: 1.09 s\n",
      "Prediction accuracy:  0.895335608646\n"
     ]
    }
   ],
   "source": [
    "C = 2.0  # SVM regularization parameter\n",
    "svmModeler(C, \"linear\", sub_features_train, features_test , sub_labels_train, labels_test)"
   ]
  },
  {
   "cell_type": "code",
   "execution_count": 44,
   "metadata": {
    "collapsed": false
   },
   "outputs": [
    {
     "name": "stdout",
     "output_type": "stream",
     "text": [
      "training time: 0.118 s\n",
      "[0 1 1 ..., 1 0 1]\n",
      "prediction time: 1.107 s\n",
      "Prediction accuracy:  0.900455062571\n"
     ]
    }
   ],
   "source": [
    "C = 3.0  # SVM regularization parameter\n",
    "svmModeler(C, \"linear\", sub_features_train, features_test , sub_labels_train, labels_test)"
   ]
  },
  {
   "cell_type": "code",
   "execution_count": 45,
   "metadata": {
    "collapsed": false
   },
   "outputs": [
    {
     "name": "stdout",
     "output_type": "stream",
     "text": [
      "training time: 0.118 s\n",
      "[0 1 1 ..., 1 0 1]\n",
      "prediction time: 1.054 s\n",
      "Prediction accuracy:  0.89590443686\n"
     ]
    }
   ],
   "source": [
    "C = 4.0  # SVM regularization parameter\n",
    "svmModeler(C, \"linear\", sub_features_train, features_test , sub_labels_train, labels_test)"
   ]
  },
  {
   "cell_type": "markdown",
   "metadata": {},
   "source": [
    "#### Lets try different kernel\n"
   ]
  },
  {
   "cell_type": "code",
   "execution_count": 47,
   "metadata": {
    "collapsed": false
   },
   "outputs": [
    {
     "name": "stdout",
     "output_type": "stream",
     "text": [
      "training time: 0.13 s\n",
      "[0 1 1 ..., 1 1 1]\n",
      "prediction time: 1.28 s\n",
      "Prediction accuracy:  0.616040955631\n"
     ]
    }
   ],
   "source": [
    "C = 1.0  # SVM regularization parameter\n",
    "svmModeler(C, \"rbf\", sub_features_train, features_test , sub_labels_train, labels_test)"
   ]
  },
  {
   "cell_type": "markdown",
   "metadata": {},
   "source": [
    "##### Not good at all"
   ]
  },
  {
   "cell_type": "code",
   "execution_count": 56,
   "metadata": {
    "collapsed": false
   },
   "outputs": [
    {
     "name": "stdout",
     "output_type": "stream",
     "text": [
      "training time: 0.129 s\n",
      "[0 1 1 ..., 1 1 1]\n",
      "prediction time: 1.301 s\n",
      "Prediction accuracy:  0.616040955631\n"
     ]
    }
   ],
   "source": [
    "C = 2.0  # SVM regularization parameter\n",
    "svmModeler(C, \"rbf\", sub_features_train, features_test , sub_labels_train, labels_test)"
   ]
  },
  {
   "cell_type": "code",
   "execution_count": 57,
   "metadata": {
    "collapsed": false
   },
   "outputs": [
    {
     "name": "stdout",
     "output_type": "stream",
     "text": [
      "training time: 0.132 s\n",
      "[0 1 1 ..., 1 1 1]\n",
      "prediction time: 1.328 s\n",
      "Prediction accuracy:  0.616040955631\n"
     ]
    }
   ],
   "source": [
    "C = 3.0  # SVM regularization parameter\n",
    "svmModeler(C, \"rbf\", sub_features_train, features_test , sub_labels_train, labels_test)"
   ]
  },
  {
   "cell_type": "code",
   "execution_count": 58,
   "metadata": {
    "collapsed": false
   },
   "outputs": [
    {
     "name": "stdout",
     "output_type": "stream",
     "text": [
      "training time: 0.13 s\n",
      "[0 1 1 ..., 1 1 1]\n",
      "prediction time: 1.312 s\n",
      "Prediction accuracy:  0.616040955631\n"
     ]
    }
   ],
   "source": [
    "C = 4.0  # SVM regularization parameter\n",
    "svmModeler(C, \"rbf\", sub_features_train, features_test , sub_labels_train, labels_test)"
   ]
  },
  {
   "cell_type": "code",
   "execution_count": 59,
   "metadata": {
    "collapsed": false
   },
   "outputs": [
    {
     "name": "stdout",
     "output_type": "stream",
     "text": [
      "training time: 0.13 s\n",
      "[0 1 1 ..., 1 1 1]\n",
      "prediction time: 1.302 s\n",
      "Prediction accuracy:  0.616040955631\n"
     ]
    }
   ],
   "source": [
    "C = 10.0  # SVM regularization parameter\n",
    "svmModeler(C, \"rbf\", sub_features_train, features_test , sub_labels_train, labels_test)"
   ]
  },
  {
   "cell_type": "code",
   "execution_count": 60,
   "metadata": {
    "collapsed": false
   },
   "outputs": [
    {
     "name": "stdout",
     "output_type": "stream",
     "text": [
      "training time: 0.128 s\n",
      "[0 1 1 ..., 1 1 1]\n",
      "prediction time: 1.524 s\n",
      "Prediction accuracy:  0.616040955631\n"
     ]
    }
   ],
   "source": [
    "C = 100.0  # SVM regularization parameter\n",
    "svmModeler(C, \"rbf\", sub_features_train, features_test , sub_labels_train, labels_test)"
   ]
  },
  {
   "cell_type": "code",
   "execution_count": 61,
   "metadata": {
    "collapsed": false
   },
   "outputs": [
    {
     "name": "stdout",
     "output_type": "stream",
     "text": [
      "training time: 0.127 s\n",
      "[0 1 1 ..., 1 0 1]\n",
      "prediction time: 1.208 s\n",
      "Prediction accuracy:  0.821387940842\n"
     ]
    }
   ],
   "source": [
    "C = 1000.0  # SVM regularization parameter\n",
    "svmModeler(C, \"rbf\", sub_features_train, features_test , sub_labels_train, labels_test)"
   ]
  },
  {
   "cell_type": "code",
   "execution_count": 80,
   "metadata": {
    "collapsed": false
   },
   "outputs": [
    {
     "name": "stdout",
     "output_type": "stream",
     "text": [
      "training time: 0.125 s\n",
      "[0 1 1 ..., 1 0 1]\n",
      "prediction time: 1.075 s\n",
      "Prediction accuracy:  0.900455062571\n"
     ]
    }
   ],
   "source": [
    "C = 6000.0  # SVM regularization parameter\n",
    "svmModeler(C, \"rbf\", sub_features_train, features_test , sub_labels_train, labels_test)"
   ]
  },
  {
   "cell_type": "code",
   "execution_count": 85,
   "metadata": {
    "collapsed": false
   },
   "outputs": [
    {
     "name": "stdout",
     "output_type": "stream",
     "text": [
      "training time: 147.792 s\n",
      "[0 0 1 ..., 1 0 0]\n",
      "prediction time: 15.49 s\n",
      "Prediction accuracy:  0.990898748578\n"
     ]
    }
   ],
   "source": [
    "C = 6000.0  # SVM regularization parameter\n",
    "svmModeler(C, \"rbf\", features_train, features_test , labels_train, labels_test)"
   ]
  },
  {
   "cell_type": "code",
   "execution_count": 100,
   "metadata": {
    "collapsed": false
   },
   "outputs": [
    {
     "name": "stdout",
     "output_type": "stream",
     "text": [
      "Chris's emails:  1014\n"
     ]
    }
   ],
   "source": [
    "print(\"Chris's emails: \", numpy.sum(feat == 1))"
   ]
  },
  {
   "cell_type": "markdown",
   "metadata": {},
   "source": [
    "## Decision Trees"
   ]
  },
  {
   "cell_type": "code",
   "execution_count": 135,
   "metadata": {
    "collapsed": false
   },
   "outputs": [],
   "source": [
    "from sklearn import tree\n",
    "def decisionTreeSampler(min_samples_split, features_train, features_test, labels_train, labels_test):\n",
    "    t0 = time()\n",
    "    clf = tree.DecisionTreeClassifier(min_samples_split= min_samples_split)\n",
    "    clf = clf.fit(features_train, labels_train)\n",
    "    print(\"training time:\", round(time()-t0, 3), \"s\")\n",
    "\n",
    "    t0 = time()\n",
    "    pred = clf.predict(features_test)\n",
    "    print(\"prediction time:\", round(time()-t0, 3), \"s\")\n",
    "\n",
    "    from sklearn.metrics import accuracy_score\n",
    "    print(\"Prediction accuracy: \", accuracy_score(labels_test, pred))\n",
    "    print(\"Chris's emails: \", numpy.sum(pred == 1))"
   ]
  },
  {
   "cell_type": "code",
   "execution_count": 140,
   "metadata": {
    "collapsed": false
   },
   "outputs": [
    {
     "name": "stdout",
     "output_type": "stream",
     "text": [
      "training time: 50.697 s\n",
      "prediction time: 0.024 s\n",
      "Prediction accuracy:  0.990898748578\n",
      "Chris's emails:  863\n"
     ]
    }
   ],
   "source": [
    "min_samples_split = 2\n",
    "decisionTreeSampler(min_samples_split, features_train, features_test , labels_train, labels_test)"
   ]
  },
  {
   "cell_type": "code",
   "execution_count": 141,
   "metadata": {
    "collapsed": false
   },
   "outputs": [
    {
     "name": "stdout",
     "output_type": "stream",
     "text": [
      "training time: 48.503 s\n",
      "prediction time: 0.023 s\n",
      "Prediction accuracy:  0.992036405006\n",
      "Chris's emails:  863\n"
     ]
    }
   ],
   "source": [
    "min_samples_split = 3\n",
    "decisionTreeSampler(min_samples_split, features_train, features_test , labels_train, labels_test)"
   ]
  },
  {
   "cell_type": "code",
   "execution_count": 142,
   "metadata": {
    "collapsed": false
   },
   "outputs": [
    {
     "name": "stdout",
     "output_type": "stream",
     "text": [
      "training time: 50.493 s\n",
      "prediction time: 0.023 s\n",
      "Prediction accuracy:  0.98976109215\n",
      "Chris's emails:  861\n"
     ]
    }
   ],
   "source": [
    "min_samples_split = 4\n",
    "decisionTreeSampler(min_samples_split, features_train, features_test , labels_train, labels_test)"
   ]
  },
  {
   "cell_type": "code",
   "execution_count": null,
   "metadata": {
    "collapsed": true
   },
   "outputs": [],
   "source": []
  }
 ],
 "metadata": {
  "kernelspec": {
   "display_name": "Python 3",
   "language": "python",
   "name": "python3"
  },
  "language_info": {
   "codemirror_mode": {
    "name": "ipython",
    "version": 3
   },
   "file_extension": ".py",
   "mimetype": "text/x-python",
   "name": "python",
   "nbconvert_exporter": "python",
   "pygments_lexer": "ipython3",
   "version": "3.6.0"
  }
 },
 "nbformat": 4,
 "nbformat_minor": 2
}
